{
 "cells": [
  {
   "cell_type": "code",
   "execution_count": 1,
   "id": "stock-trade",
   "metadata": {},
   "outputs": [
    {
     "data": {
      "text/plain": [
       "Unnamed: 0        0\n",
       "Store             0\n",
       "Dept              0\n",
       "Size              0\n",
       "Date              0\n",
       "Weekly_Sales      0\n",
       "Temperature       0\n",
       "Fuel_Price        0\n",
       "CPI               0\n",
       "Unemployment      0\n",
       "MarkDown1         0\n",
       "MarkDown2         0\n",
       "MarkDown3         0\n",
       "MarkDown4         0\n",
       "MarkDown5         0\n",
       "IsHoliday         0\n",
       "Type_A            0\n",
       "Type_B            0\n",
       "Type_C            0\n",
       "month             0\n",
       "quarter           0\n",
       "dayofweek_name    0\n",
       "is_weekend        0\n",
       "dtype: int64"
      ]
     },
     "execution_count": 1,
     "metadata": {},
     "output_type": "execute_result"
    }
   ],
   "source": [
    "import pandas as pd\n",
    "import numpy as np\n",
    "df =  pd.read_csv(\"joined_data_refined.csv\",keep_default_na=False, na_values=[\"\"])\n",
    "df.isnull().sum()"
   ]
  },
  {
   "cell_type": "code",
   "execution_count": 2,
   "id": "native-original",
   "metadata": {},
   "outputs": [],
   "source": [
    "import seaborn as sns\n",
    "sns.set_theme()\n",
    "%matplotlib inline\n",
    "from matplotlib import pyplot as plt"
   ]
  },
  {
   "cell_type": "code",
   "execution_count": 3,
   "id": "empty-specific",
   "metadata": {},
   "outputs": [
    {
     "name": "stdout",
     "output_type": "stream",
     "text": [
      "   Store  Dept    Size  Weekly_Sales  Temperature  Fuel_Price         CPI  \\\n",
      "0      1     1  151315      24924.50        42.31       2.572  211.096358   \n",
      "1      1     1  151315      46039.49        38.51       2.548  211.242170   \n",
      "2      1     1  151315      41595.55        39.93       2.514  211.289143   \n",
      "3      1     1  151315      19403.54        46.63       2.561  211.319643   \n",
      "4      1     1  151315      21827.90        46.50       2.625  211.350143   \n",
      "\n",
      "   Unemployment  MarkDown1  MarkDown2  MarkDown3  MarkDown5  IsHoliday  \\\n",
      "0         8.106        0.0        0.0        0.0        0.0      False   \n",
      "1         8.106        0.0        0.0        0.0        0.0       True   \n",
      "2         8.106        0.0        0.0        0.0        0.0      False   \n",
      "3         8.106        0.0        0.0        0.0        0.0      False   \n",
      "4         8.106        0.0        0.0        0.0        0.0      False   \n",
      "\n",
      "   Type_B  Type_C  month  year  day  \n",
      "0       0       0      2  2010    5  \n",
      "1       0       0      2  2010   12  \n",
      "2       0       0      2  2010   19  \n",
      "3       0       0      2  2010   26  \n",
      "4       0       0      3  2010    5  \n"
     ]
    }
   ],
   "source": [
    "df['year'] = pd.to_datetime(df['Date'],format=\"%Y-%m-%d\").dt.year.astype(int)\n",
    "df['day'] = pd.to_datetime(df['Date'],format=\"%Y-%m-%d\").dt.day.astype(int)\n",
    "del df['Unnamed: 0']\n",
    "del df['Date']\n",
    "del df['is_weekend']\n",
    "del df['Type_A']\n",
    "del df['quarter']\n",
    "del df['MarkDown4']\n",
    "del df['dayofweek_name']\n",
    "print(df.head())\n",
    "# corr = df.corr()\n",
    "# plt.figure(figsize=(15, 10))\n",
    "# sns.heatmap(corr, annot=True)\n",
    "# plt.plot()"
   ]
  },
  {
   "cell_type": "code",
   "execution_count": 4,
   "id": "rocky-martial",
   "metadata": {},
   "outputs": [],
   "source": [
    "X = df.copy()\n",
    "del X['Weekly_Sales']\n",
    "y = df['Weekly_Sales']\n",
    "y = y.values.reshape(-1, 1)"
   ]
  },
  {
   "cell_type": "code",
   "execution_count": 5,
   "id": "electoral-house",
   "metadata": {},
   "outputs": [
    {
     "data": {
      "text/html": [
       "<div>\n",
       "<style scoped>\n",
       "    .dataframe tbody tr th:only-of-type {\n",
       "        vertical-align: middle;\n",
       "    }\n",
       "\n",
       "    .dataframe tbody tr th {\n",
       "        vertical-align: top;\n",
       "    }\n",
       "\n",
       "    .dataframe thead th {\n",
       "        text-align: right;\n",
       "    }\n",
       "</style>\n",
       "<table border=\"1\" class=\"dataframe\">\n",
       "  <thead>\n",
       "    <tr style=\"text-align: right;\">\n",
       "      <th></th>\n",
       "      <th>Store</th>\n",
       "      <th>Dept</th>\n",
       "      <th>Size</th>\n",
       "      <th>Temperature</th>\n",
       "      <th>Fuel_Price</th>\n",
       "      <th>CPI</th>\n",
       "      <th>Unemployment</th>\n",
       "      <th>MarkDown1</th>\n",
       "      <th>MarkDown2</th>\n",
       "      <th>MarkDown3</th>\n",
       "      <th>MarkDown5</th>\n",
       "      <th>IsHoliday</th>\n",
       "      <th>Type_B</th>\n",
       "      <th>Type_C</th>\n",
       "      <th>month</th>\n",
       "      <th>year</th>\n",
       "      <th>day</th>\n",
       "    </tr>\n",
       "  </thead>\n",
       "  <tbody>\n",
       "    <tr>\n",
       "      <th>19436</th>\n",
       "      <td>2</td>\n",
       "      <td>92</td>\n",
       "      <td>202307</td>\n",
       "      <td>65.80</td>\n",
       "      <td>2.720</td>\n",
       "      <td>211.471329</td>\n",
       "      <td>8.163</td>\n",
       "      <td>0.00</td>\n",
       "      <td>0.00</td>\n",
       "      <td>0.00</td>\n",
       "      <td>0.00</td>\n",
       "      <td>False</td>\n",
       "      <td>0</td>\n",
       "      <td>0</td>\n",
       "      <td>10</td>\n",
       "      <td>2010</td>\n",
       "      <td>15</td>\n",
       "    </tr>\n",
       "    <tr>\n",
       "      <th>226228</th>\n",
       "      <td>24</td>\n",
       "      <td>1</td>\n",
       "      <td>203819</td>\n",
       "      <td>65.56</td>\n",
       "      <td>3.937</td>\n",
       "      <td>136.314500</td>\n",
       "      <td>8.358</td>\n",
       "      <td>0.00</td>\n",
       "      <td>0.00</td>\n",
       "      <td>0.00</td>\n",
       "      <td>0.00</td>\n",
       "      <td>False</td>\n",
       "      <td>0</td>\n",
       "      <td>0</td>\n",
       "      <td>9</td>\n",
       "      <td>2011</td>\n",
       "      <td>16</td>\n",
       "    </tr>\n",
       "    <tr>\n",
       "      <th>413007</th>\n",
       "      <td>45</td>\n",
       "      <td>18</td>\n",
       "      <td>118221</td>\n",
       "      <td>64.89</td>\n",
       "      <td>3.985</td>\n",
       "      <td>192.170412</td>\n",
       "      <td>8.667</td>\n",
       "      <td>5046.74</td>\n",
       "      <td>0.00</td>\n",
       "      <td>18.82</td>\n",
       "      <td>2340.01</td>\n",
       "      <td>False</td>\n",
       "      <td>1</td>\n",
       "      <td>0</td>\n",
       "      <td>10</td>\n",
       "      <td>2012</td>\n",
       "      <td>5</td>\n",
       "    </tr>\n",
       "    <tr>\n",
       "      <th>124132</th>\n",
       "      <td>13</td>\n",
       "      <td>54</td>\n",
       "      <td>219622</td>\n",
       "      <td>80.42</td>\n",
       "      <td>3.537</td>\n",
       "      <td>130.719581</td>\n",
       "      <td>5.765</td>\n",
       "      <td>6699.60</td>\n",
       "      <td>96.56</td>\n",
       "      <td>5.20</td>\n",
       "      <td>6650.26</td>\n",
       "      <td>False</td>\n",
       "      <td>0</td>\n",
       "      <td>0</td>\n",
       "      <td>7</td>\n",
       "      <td>2012</td>\n",
       "      <td>27</td>\n",
       "    </tr>\n",
       "    <tr>\n",
       "      <th>307742</th>\n",
       "      <td>32</td>\n",
       "      <td>35</td>\n",
       "      <td>203007</td>\n",
       "      <td>64.05</td>\n",
       "      <td>3.659</td>\n",
       "      <td>198.126718</td>\n",
       "      <td>7.872</td>\n",
       "      <td>6238.21</td>\n",
       "      <td>77.77</td>\n",
       "      <td>23.41</td>\n",
       "      <td>8346.74</td>\n",
       "      <td>False</td>\n",
       "      <td>0</td>\n",
       "      <td>0</td>\n",
       "      <td>9</td>\n",
       "      <td>2012</td>\n",
       "      <td>14</td>\n",
       "    </tr>\n",
       "  </tbody>\n",
       "</table>\n",
       "</div>"
      ],
      "text/plain": [
       "        Store  Dept    Size  Temperature  Fuel_Price         CPI  \\\n",
       "19436       2    92  202307        65.80       2.720  211.471329   \n",
       "226228     24     1  203819        65.56       3.937  136.314500   \n",
       "413007     45    18  118221        64.89       3.985  192.170412   \n",
       "124132     13    54  219622        80.42       3.537  130.719581   \n",
       "307742     32    35  203007        64.05       3.659  198.126718   \n",
       "\n",
       "        Unemployment  MarkDown1  MarkDown2  MarkDown3  MarkDown5  IsHoliday  \\\n",
       "19436          8.163       0.00       0.00       0.00       0.00      False   \n",
       "226228         8.358       0.00       0.00       0.00       0.00      False   \n",
       "413007         8.667    5046.74       0.00      18.82    2340.01      False   \n",
       "124132         5.765    6699.60      96.56       5.20    6650.26      False   \n",
       "307742         7.872    6238.21      77.77      23.41    8346.74      False   \n",
       "\n",
       "        Type_B  Type_C  month  year  day  \n",
       "19436        0       0     10  2010   15  \n",
       "226228       0       0      9  2011   16  \n",
       "413007       1       0     10  2012    5  \n",
       "124132       0       0      7  2012   27  \n",
       "307742       0       0      9  2012   14  "
      ]
     },
     "execution_count": 5,
     "metadata": {},
     "output_type": "execute_result"
    }
   ],
   "source": [
    "from sklearn.model_selection import train_test_split\n",
    "X_train,X_test,y_train,y_test=train_test_split( X, y, test_size=0.2, random_state=0)\n",
    "X_train.columns\n",
    "X_train.head()"
   ]
  },
  {
   "cell_type": "code",
   "execution_count": 6,
   "id": "facial-interval",
   "metadata": {},
   "outputs": [],
   "source": [
    "# from sklearn.preprocessing import StandardScaler\n",
    "# std_scaler = StandardScaler()\n",
    "# X_train = std_scaler.fit_transform(X_train)\n",
    "# X_test = std_scaler.transform(X_test)"
   ]
  },
  {
   "cell_type": "code",
   "execution_count": 7,
   "id": "surprised-virginia",
   "metadata": {},
   "outputs": [],
   "source": [
    "from sklearn.metrics import mean_absolute_error\n",
    "from sklearn.neighbors import KNeighborsRegressor\n",
    "knn = KNeighborsRegressor(n_neighbors=10,n_jobs=4)\n",
    "knn.fit(X_train,y_train)\n",
    "y_pred_knn = knn.predict(X_test)"
   ]
  },
  {
   "cell_type": "code",
   "execution_count": 8,
   "id": "trying-substance",
   "metadata": {},
   "outputs": [
    {
     "data": {
      "image/png": "[encoded data removed]",
      "text/plain": [
       "<Figure size 432x288 with 1 Axes>"
      ]
     },
     "metadata": {
      "needs_background": "light"
     },
     "output_type": "display_data"
    }
   ],
   "source": [
    "plt.scatter(y_test,y_pred_knn)\n",
    "plt.show()"
   ]
  },
  {
   "cell_type": "code",
   "execution_count": 9,
   "id": "moving-solid",
   "metadata": {},
   "outputs": [
    {
     "name": "stdout",
     "output_type": "stream",
     "text": [
      "11407.692288602262\n",
      "338192552.42034084\n",
      "34.399709579864634\n"
     ]
    }
   ],
   "source": [
    "from sklearn.metrics import mean_squared_error\n",
    "print(mean_absolute_error(y_test,y_pred_knn))\n",
    "print(mean_squared_error(y_test,y_pred_knn))\n",
    "print(knn.score(X_test, y_test)*100)"
   ]
  },
  {
   "cell_type": "code",
   "execution_count": null,
   "id": "purple-plain",
   "metadata": {},
   "outputs": [],
   "source": []
  }
 ],
 "metadata": {
  "kernelspec": {
   "display_name": "Python 3",
   "language": "python",
   "name": "python3"
  },
  "language_info": {
   "codemirror_mode": {
    "name": "ipython",
    "version": 3
   },
   "file_extension": ".py",
   "mimetype": "text/x-python",
   "name": "python",
   "nbconvert_exporter": "python",
   "pygments_lexer": "ipython3",
   "version": "3.9.2"
  }
 },
 "nbformat": 4,
 "nbformat_minor": 5
}
