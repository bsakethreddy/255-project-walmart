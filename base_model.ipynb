{
 "cells": [
  {
   "cell_type": "code",
   "execution_count": 2,
   "id": "comprehensive-wiring",
   "metadata": {},
   "outputs": [],
   "source": [
    "import pandas as pd\n",
    "\n",
    "from sklearn.model_selection import train_test_split\n",
    "from sklearn.linear_model import LogisticRegression\n",
    "from sklearn.model_selection import KFold\n",
    "from sklearn import model_selection\n",
    "from sklearn.model_selection import cross_val_score\n",
    "from sklearn import metrics\n",
    "from sklearn.feature_selection import RFE"
   ]
  },
  {
   "cell_type": "code",
   "execution_count": 3,
   "id": "cordless-colombia",
   "metadata": {},
   "outputs": [],
   "source": [
    "df =  pd.read_csv(\"joined_data.csv\",\n",
    "                         keep_default_na=False, na_values=[\"\"])"
   ]
  },
  {
   "cell_type": "code",
   "execution_count": 4,
   "id": "authentic-joining",
   "metadata": {},
   "outputs": [
    {
     "name": "stdout",
     "output_type": "stream",
     "text": [
      "   Store  Dept    Size  Weekly_Sales  Temperature  Fuel_Price         CPI  \\\n",
      "0      1     1  151315      24924.50        42.31       2.572  211.096358   \n",
      "1      1     1  151315      46039.49        38.51       2.548  211.242170   \n",
      "2      1     1  151315      41595.55        39.93       2.514  211.289143   \n",
      "3      1     1  151315      19403.54        46.63       2.561  211.319643   \n",
      "4      1     1  151315      21827.90        46.50       2.625  211.350143   \n",
      "\n",
      "   Unemployment  IsHoliday  \n",
      "0         8.106          0  \n",
      "1         8.106          1  \n",
      "2         8.106          0  \n",
      "3         8.106          0  \n",
      "4         8.106          0  \n",
      "<class 'pandas.core.frame.DataFrame'>\n",
      "RangeIndex: 420212 entries, 0 to 420211\n",
      "Data columns (total 9 columns):\n",
      " #   Column        Non-Null Count   Dtype  \n",
      "---  ------        --------------   -----  \n",
      " 0   Store         420212 non-null  int64  \n",
      " 1   Dept          420212 non-null  int64  \n",
      " 2   Size          420212 non-null  int64  \n",
      " 3   Weekly_Sales  420212 non-null  float64\n",
      " 4   Temperature   420212 non-null  float64\n",
      " 5   Fuel_Price    420212 non-null  float64\n",
      " 6   CPI           420212 non-null  float64\n",
      " 7   Unemployment  420212 non-null  float64\n",
      " 8   IsHoliday     420212 non-null  int32  \n",
      "dtypes: float64(5), int32(1), int64(3)\n",
      "memory usage: 27.3 MB\n"
     ]
    }
   ],
   "source": [
    "df[[\"IsHoliday\"]] *= 1\n",
    "del df['Type']\n",
    "del df['Date']\n",
    "print(df.head())\n",
    "df.info()"
   ]
  },
  {
   "cell_type": "code",
   "execution_count": 5,
   "id": "curious-folks",
   "metadata": {},
   "outputs": [
    {
     "name": "stdout",
     "output_type": "stream",
     "text": [
      "   Store  Dept    Size  Temperature  Fuel_Price         CPI  Unemployment  \\\n",
      "0      1     1  151315        42.31       2.572  211.096358         8.106   \n",
      "1      1     1  151315        38.51       2.548  211.242170         8.106   \n",
      "2      1     1  151315        39.93       2.514  211.289143         8.106   \n",
      "3      1     1  151315        46.63       2.561  211.319643         8.106   \n",
      "4      1     1  151315        46.50       2.625  211.350143         8.106   \n",
      "\n",
      "   IsHoliday  \n",
      "0          0  \n",
      "1          1  \n",
      "2          0  \n",
      "3          0  \n",
      "4          0  \n",
      "0    24924.50\n",
      "1    46039.49\n",
      "2    41595.55\n",
      "3    19403.54\n",
      "4    21827.90\n",
      "Name: Weekly_Sales, dtype: float64\n"
     ]
    }
   ],
   "source": [
    "model = LogisticRegression(max_iter=10000)\n",
    "X = df.loc[:, df.columns != 'Weekly_Sales']\n",
    "Y = df['Weekly_Sales']\n",
    "print(X.head())\n",
    "print(Y.head())"
   ]
  },
  {
   "cell_type": "code",
   "execution_count": 7,
   "id": "natural-prayer",
   "metadata": {},
   "outputs": [
    {
     "name": "stdout",
     "output_type": "stream",
     "text": [
      "          CPI\n",
      "0  211.096358\n",
      "1  211.242170\n",
      "2  211.289143\n",
      "3  211.319643\n",
      "4  211.350143\n",
      "0    24924.50\n",
      "1    46039.49\n",
      "2    41595.55\n",
      "3    19403.54\n",
      "4    21827.90\n",
      "Name: Weekly_Sales, dtype: float64\n"
     ]
    },
    {
     "ename": "ValueError",
     "evalue": "Unknown label type: 'continuous'",
     "output_type": "error",
     "traceback": [
      "\u001b[1;31m---------------------------------------------------------------------------\u001b[0m",
      "\u001b[1;31mValueError\u001b[0m                                Traceback (most recent call last)",
      "\u001b[1;32m<ipython-input-7-2c60ee8c75f0>\u001b[0m in \u001b[0;36m<module>\u001b[1;34m\u001b[0m\n\u001b[0;32m     14\u001b[0m \u001b[1;33m\u001b[0m\u001b[0m\n\u001b[0;32m     15\u001b[0m \u001b[0mlogreg\u001b[0m \u001b[1;33m=\u001b[0m \u001b[0mLogisticRegression\u001b[0m\u001b[1;33m(\u001b[0m\u001b[0mmax_iter\u001b[0m\u001b[1;33m=\u001b[0m\u001b[1;36m10000\u001b[0m\u001b[1;33m)\u001b[0m\u001b[1;33m\u001b[0m\u001b[1;33m\u001b[0m\u001b[0m\n\u001b[1;32m---> 16\u001b[1;33m \u001b[0mlogreg\u001b[0m\u001b[1;33m.\u001b[0m\u001b[0mfit\u001b[0m\u001b[1;33m(\u001b[0m\u001b[0mX_train\u001b[0m\u001b[1;33m,\u001b[0m \u001b[0my_train\u001b[0m\u001b[1;33m)\u001b[0m\u001b[1;33m\u001b[0m\u001b[1;33m\u001b[0m\u001b[0m\n\u001b[0m",
      "\u001b[1;32m~\\AppData\\Local\\Packages\\PythonSoftwareFoundation.Python.3.9_qbz5n2kfra8p0\\LocalCache\\local-packages\\Python39\\site-packages\\sklearn\\linear_model\\_logistic.py\u001b[0m in \u001b[0;36mfit\u001b[1;34m(self, X, y, sample_weight)\u001b[0m\n\u001b[0;32m   1345\u001b[0m                                    \u001b[0morder\u001b[0m\u001b[1;33m=\u001b[0m\u001b[1;34m\"C\"\u001b[0m\u001b[1;33m,\u001b[0m\u001b[1;33m\u001b[0m\u001b[1;33m\u001b[0m\u001b[0m\n\u001b[0;32m   1346\u001b[0m                                    accept_large_sparse=solver != 'liblinear')\n\u001b[1;32m-> 1347\u001b[1;33m         \u001b[0mcheck_classification_targets\u001b[0m\u001b[1;33m(\u001b[0m\u001b[0my\u001b[0m\u001b[1;33m)\u001b[0m\u001b[1;33m\u001b[0m\u001b[1;33m\u001b[0m\u001b[0m\n\u001b[0m\u001b[0;32m   1348\u001b[0m         \u001b[0mself\u001b[0m\u001b[1;33m.\u001b[0m\u001b[0mclasses_\u001b[0m \u001b[1;33m=\u001b[0m \u001b[0mnp\u001b[0m\u001b[1;33m.\u001b[0m\u001b[0munique\u001b[0m\u001b[1;33m(\u001b[0m\u001b[0my\u001b[0m\u001b[1;33m)\u001b[0m\u001b[1;33m\u001b[0m\u001b[1;33m\u001b[0m\u001b[0m\n\u001b[0;32m   1349\u001b[0m \u001b[1;33m\u001b[0m\u001b[0m\n",
      "\u001b[1;32m~\\AppData\\Local\\Packages\\PythonSoftwareFoundation.Python.3.9_qbz5n2kfra8p0\\LocalCache\\local-packages\\Python39\\site-packages\\sklearn\\utils\\multiclass.py\u001b[0m in \u001b[0;36mcheck_classification_targets\u001b[1;34m(y)\u001b[0m\n\u001b[0;32m    181\u001b[0m     if y_type not in ['binary', 'multiclass', 'multiclass-multioutput',\n\u001b[0;32m    182\u001b[0m                       'multilabel-indicator', 'multilabel-sequences']:\n\u001b[1;32m--> 183\u001b[1;33m         \u001b[1;32mraise\u001b[0m \u001b[0mValueError\u001b[0m\u001b[1;33m(\u001b[0m\u001b[1;34m\"Unknown label type: %r\"\u001b[0m \u001b[1;33m%\u001b[0m \u001b[0my_type\u001b[0m\u001b[1;33m)\u001b[0m\u001b[1;33m\u001b[0m\u001b[1;33m\u001b[0m\u001b[0m\n\u001b[0m\u001b[0;32m    184\u001b[0m \u001b[1;33m\u001b[0m\u001b[0m\n\u001b[0;32m    185\u001b[0m \u001b[1;33m\u001b[0m\u001b[0m\n",
      "\u001b[1;31mValueError\u001b[0m: Unknown label type: 'continuous'"
     ]
    }
   ],
   "source": [
    "from sklearn.preprocessing import StandardScaler\n",
    "sc_X = StandardScaler();\n",
    "\n",
    "X = df.loc[:, df.columns == 'CPI']\n",
    "Y = df['Weekly_Sales']\n",
    "# X = X.reshape(-1,1)\n",
    "# Y = Y.reshape(-1,1)\n",
    "# X = sc_X.fit_transform(X)\n",
    "# Y = sc_X.fit_transform(Y)\n",
    "print(X.head())\n",
    "print(Y.head())\n",
    "X_train, X_test, y_train, y_test = train_test_split(\n",
    "X, y, test_size=0.2, random_state=12345)\n",
    "\n",
    "logreg = LogisticRegression(max_iter=10000)\n",
    "logreg.fit(X_train, y_train)"
   ]
  },
  {
   "cell_type": "code",
   "execution_count": null,
   "id": "clean-glass",
   "metadata": {},
   "outputs": [],
   "source": [
    " y_pred_class = logreg.predict(X_test)\n",
    "metrics.accuracy_score(y_test, y_pred_class)"
   ]
  },
  {
   "cell_type": "code",
   "execution_count": null,
   "id": "legitimate-museum",
   "metadata": {},
   "outputs": [],
   "source": []
  },
  {
   "cell_type": "code",
   "execution_count": 8,
   "id": "quick-lucas",
   "metadata": {},
   "outputs": [
    {
     "data": {
      "text/plain": [
       "LinearRegression()"
      ]
     },
     "execution_count": 8,
     "metadata": {},
     "output_type": "execute_result"
    }
   ],
   "source": [
    "# X_train = X_train.reshape(-1,1)\n",
    "# y_train = y_train.reshape(-1,1)\n",
    "# X_test = X_test.reshape(-1,1)\n",
    "# y_test = y_test.reshape(-1,1)\n",
    "\n",
    "# y_train = sc_X.fit_transform(y_train)\n",
    "# X_train = sc_X.fit_transform(X_train)\n",
    "\n",
    "# X_test = sc_X.fit_transform(X_test)\n",
    "# y_test = sc_X.fit_transform(y_test)\n",
    "from sklearn.linear_model import LinearRegression\n",
    "linear_regression=LinearRegression()\n",
    "linear_regression.fit(X_train, y_train)"
   ]
  },
  {
   "cell_type": "code",
   "execution_count": 9,
   "id": "discrete-accident",
   "metadata": {},
   "outputs": [
    {
     "name": "stdout",
     "output_type": "stream",
     "text": [
      "<class 'pandas.core.frame.DataFrame'>\n",
      "               CPI\n",
      "143981  132.761933\n",
      "221630  136.643258\n",
      "359938  209.219957\n",
      "324386  126.381548\n",
      "354568  131.149968\n",
      "...            ...\n",
      "351227  214.793411\n",
      "412703  189.062016\n",
      "117865  130.829533\n",
      "20078   220.065199\n",
      "77876   224.395979\n",
      "\n",
      "[84043 rows x 1 columns]\n"
     ]
    },
    {
     "data": {
      "text/plain": [
       "503429718.7918004"
      ]
     },
     "execution_count": 9,
     "metadata": {},
     "output_type": "execute_result"
    }
   ],
   "source": [
    "print(type (X_test) )\n",
    "y_pred = linear_regression.predict(X_test)\n",
    "# print(\"y_pred =  \", sc_X.inverse_transform(y_pred)  )\n",
    "print( X_test )\n",
    "metrics.mean_squared_error(y_test, y_pred)\n"
   ]
  },
  {
   "cell_type": "code",
   "execution_count": null,
   "id": "bigger-husband",
   "metadata": {},
   "outputs": [],
   "source": []
  }
 ],
 "metadata": {
  "kernelspec": {
   "display_name": "Python 3",
   "language": "python",
   "name": "python3"
  },
  "language_info": {
   "codemirror_mode": {
    "name": "ipython",
    "version": 3
   },
   "file_extension": ".py",
   "mimetype": "text/x-python",
   "name": "python",
   "nbconvert_exporter": "python",
   "pygments_lexer": "ipython3",
   "version": "3.9.4"
  }
 },
 "nbformat": 4,
 "nbformat_minor": 5
}
