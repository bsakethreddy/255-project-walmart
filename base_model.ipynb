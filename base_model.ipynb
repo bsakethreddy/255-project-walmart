{
 "cells": [
  {
   "cell_type": "code",
   "execution_count": 12,
   "id": "psychological-school",
   "metadata": {},
   "outputs": [],
   "source": [
    "import pandas as pd\n",
    "import numpy as np\n",
    "from sklearn.linear_model import LinearRegression\n",
    "from sklearn.model_selection import train_test_split\n",
    "from sklearn.metrics import accuracy_score\n",
    "from sklearn.metrics import mean_squared_error\n",
    "from sklearn.metrics import mean_absolute_error"
   ]
  },
  {
   "cell_type": "code",
   "execution_count": 13,
   "id": "viral-huntington",
   "metadata": {},
   "outputs": [],
   "source": [
    "df =  pd.read_csv(\"joined_data.csv\",keep_default_na=False, na_values=[\"\"])"
   ]
  },
  {
   "cell_type": "code",
   "execution_count": 14,
   "id": "endless-telling",
   "metadata": {},
   "outputs": [
    {
     "data": {
      "text/plain": [
       "Index(['Store', 'Dept', 'Size', 'Weekly_Sales', 'Temperature', 'Fuel_Price',\n",
       "       'CPI', 'Unemployment', 'MarkDown1', 'MarkDown2', 'MarkDown3',\n",
       "       'MarkDown4', 'MarkDown5', 'IsHoliday'],\n",
       "      dtype='object')"
      ]
     },
     "execution_count": 14,
     "metadata": {},
     "output_type": "execute_result"
    }
   ],
   "source": [
    "df[[\"IsHoliday\"]] *= 1\n",
    "del df['Type']\n",
    "del df['Date']\n",
    "# print(df.head())\n",
    "# df.info()\n",
    "df.columns"
   ]
  },
  {
   "cell_type": "code",
   "execution_count": 15,
   "id": "covered-plastic",
   "metadata": {},
   "outputs": [],
   "source": [
    "# X = df.loc[:, df.columns == 'Size']\n",
    "X = df.copy()\n",
    "del X['Weekly_Sales']\n",
    "del X['MarkDown1']\n",
    "del X['MarkDown2']\n",
    "del X['MarkDown3']\n",
    "del X['MarkDown4']\n",
    "del X['MarkDown5']\n",
    "Y = df['Weekly_Sales']\n",
    "Y = Y.values.reshape(-1, 1)"
   ]
  },
  {
   "cell_type": "code",
   "execution_count": 16,
   "id": "freelance-richardson",
   "metadata": {},
   "outputs": [],
   "source": [
    "X_train, X_test, y_train, y_test = train_test_split(X, Y, test_size=0.2, random_state=42)"
   ]
  },
  {
   "cell_type": "code",
   "execution_count": 17,
   "id": "periodic-deviation",
   "metadata": {},
   "outputs": [
    {
     "name": "stdout",
     "output_type": "stream",
     "text": [
      "ACCURACY 8.877\n",
      "RMSE 21574.560029241395\n",
      "MAE 14524.651798521603\n"
     ]
    }
   ],
   "source": [
    "linearModel = LinearRegression().fit(X_train, y_train)\n",
    "y_pred = linearModel.predict(X_test)\n",
    "print('ACCURACY',round(linearModel.score(X_test, y_test),5)*100)\n",
    "\n",
    "rms = mean_squared_error(y_test, y_pred, squared=False)\n",
    "print('RMSE',rms)\n",
    "\n",
    "print('MAE',mean_absolute_error(y_test, y_pred))"
   ]
  },
  {
   "cell_type": "code",
   "execution_count": null,
   "id": "temporal-eight",
   "metadata": {},
   "outputs": [],
   "source": []
  }
 ],
 "metadata": {
  "kernelspec": {
   "display_name": "Python 3",
   "language": "python",
   "name": "python3"
  },
  "language_info": {
   "codemirror_mode": {
    "name": "ipython",
    "version": 3
   },
   "file_extension": ".py",
   "mimetype": "text/x-python",
   "name": "python",
   "nbconvert_exporter": "python",
   "pygments_lexer": "ipython3",
   "version": "3.9.2"
  }
 },
 "nbformat": 4,
 "nbformat_minor": 5
}
