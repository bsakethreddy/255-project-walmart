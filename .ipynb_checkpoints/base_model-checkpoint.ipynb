{
 "cells": [
  {
   "cell_type": "code",
   "execution_count": 206,
   "id": "identified-belarus",
   "metadata": {},
   "outputs": [],
   "source": [
    "import pandas as pd\n",
    "import numpy as np\n",
    "from sklearn.linear_model import LinearRegression\n",
    "from sklearn.metrics import accuracy_score\n",
    "from sklearn.metrics import r2_score\n",
    "from sklearn.metrics import mean_absolute_error"
   ]
  },
  {
   "cell_type": "code",
   "execution_count": 207,
   "id": "premium-russian",
   "metadata": {},
   "outputs": [],
   "source": [
    "df =  pd.read_csv(\"joined_data.csv\",keep_default_na=False, na_values=[\"\"])"
   ]
  },
  {
   "cell_type": "code",
   "execution_count": 208,
   "id": "familiar-retrieval",
   "metadata": {},
   "outputs": [
    {
     "data": {
      "text/plain": [
       "Index(['Store', 'Dept', 'Size', 'Weekly_Sales', 'Temperature', 'Fuel_Price',\n",
       "       'CPI', 'Unemployment', 'IsHoliday'],\n",
       "      dtype='object')"
      ]
     },
     "execution_count": 208,
     "metadata": {},
     "output_type": "execute_result"
    }
   ],
   "source": [
    "df[[\"IsHoliday\"]] *= 1\n",
    "del df['Type']\n",
    "del df['Date']\n",
    "# print(df.head())\n",
    "# df.info()\n",
    "df.columns"
   ]
  },
  {
   "cell_type": "code",
   "execution_count": 209,
   "id": "cardiovascular-seeker",
   "metadata": {},
   "outputs": [],
   "source": [
    "# X = df.loc[:, df.columns == 'Size']\n",
    "X = df.copy()\n",
    "del X['Weekly_Sales']\n",
    "Y = df['Weekly_Sales']\n",
    "Y = Y.values.reshape(-1, 1)"
   ]
  },
  {
   "cell_type": "code",
   "execution_count": 210,
   "id": "stone-leather",
   "metadata": {},
   "outputs": [],
   "source": [
    "X_train, X_test, y_train, y_test = train_test_split(X, Y, test_size=0.2, random_state=42)"
   ]
  },
  {
   "cell_type": "code",
   "execution_count": 211,
   "id": "matched-quilt",
   "metadata": {},
   "outputs": [
    {
     "name": "stdout",
     "output_type": "stream",
     "text": [
      "ACCURACY 8.877\n",
      "RMSE 21574.560029241395\n",
      "MAE 14524.651798521603\n"
     ]
    }
   ],
   "source": [
    "linearModel = LinearRegression().fit(X_train, y_train)\n",
    "y_pred = linearModel.predict(X_test)\n",
    "print('ACCURACY',round(linearModel.score(X_test, y_test),5)*100)\n",
    "\n",
    "rms = mean_squared_error(y_test, y_pred, squared=False)\n",
    "print('RMSE',rms)\n",
    "\n",
    "print('MAE',mean_absolute_error(y_test, y_pred))"
   ]
  },
  {
   "cell_type": "code",
   "execution_count": null,
   "id": "moving-manchester",
   "metadata": {},
   "outputs": [],
   "source": []
  }
 ],
 "metadata": {
  "kernelspec": {
   "display_name": "Python 3",
   "language": "python",
   "name": "python3"
  },
  "language_info": {
   "codemirror_mode": {
    "name": "ipython",
    "version": 3
   },
   "file_extension": ".py",
   "mimetype": "text/x-python",
   "name": "python",
   "nbconvert_exporter": "python",
   "pygments_lexer": "ipython3",
   "version": "3.9.2"
  }
 },
 "nbformat": 4,
 "nbformat_minor": 5
}
