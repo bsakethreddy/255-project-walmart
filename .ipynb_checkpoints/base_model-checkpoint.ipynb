{
 "cells": [
  {
   "cell_type": "code",
   "execution_count": 116,
   "id": "suspended-concern",
   "metadata": {},
   "outputs": [],
   "source": [
    "import pandas as pd\n",
    "\n",
    "from sklearn.model_selection import train_test_split\n",
    "from sklearn.linear_model import LogisticRegression\n",
    "from sklearn.model_selection import KFold\n",
    "from sklearn import model_selection\n",
    "from sklearn.model_selection import cross_val_score\n",
    "from sklearn import metrics\n",
    "from sklearn.feature_selection import RFE"
   ]
  },
  {
   "cell_type": "code",
   "execution_count": 117,
   "id": "awful-packet",
   "metadata": {},
   "outputs": [],
   "source": [
    "df =  pd.read_csv(\"joined_data.csv\",\n",
    "                         keep_default_na=False, na_values=[\"\"])"
   ]
  },
  {
   "cell_type": "code",
   "execution_count": 118,
   "id": "refined-broad",
   "metadata": {},
   "outputs": [
    {
     "name": "stdout",
     "output_type": "stream",
     "text": [
      "   Store  Dept    Size  Weekly_Sales  Temperature  Fuel_Price         CPI  \\\n",
      "0      1     1  151315      24924.50        42.31       2.572  211.096358   \n",
      "1      1     1  151315      46039.49        38.51       2.548  211.242170   \n",
      "2      1     1  151315      41595.55        39.93       2.514  211.289143   \n",
      "3      1     1  151315      19403.54        46.63       2.561  211.319643   \n",
      "4      1     1  151315      21827.90        46.50       2.625  211.350143   \n",
      "\n",
      "   Unemployment  IsHoliday  \n",
      "0         8.106          0  \n",
      "1         8.106          1  \n",
      "2         8.106          0  \n",
      "3         8.106          0  \n",
      "4         8.106          0  \n",
      "<class 'pandas.core.frame.DataFrame'>\n",
      "RangeIndex: 420212 entries, 0 to 420211\n",
      "Data columns (total 9 columns):\n",
      " #   Column        Non-Null Count   Dtype  \n",
      "---  ------        --------------   -----  \n",
      " 0   Store         420212 non-null  int64  \n",
      " 1   Dept          420212 non-null  int64  \n",
      " 2   Size          420212 non-null  int64  \n",
      " 3   Weekly_Sales  420212 non-null  float64\n",
      " 4   Temperature   420212 non-null  float64\n",
      " 5   Fuel_Price    420212 non-null  float64\n",
      " 6   CPI           420212 non-null  float64\n",
      " 7   Unemployment  420212 non-null  float64\n",
      " 8   IsHoliday     420212 non-null  int32  \n",
      "dtypes: float64(5), int32(1), int64(3)\n",
      "memory usage: 27.3 MB\n"
     ]
    }
   ],
   "source": [
    "df[[\"IsHoliday\"]] *= 1\n",
    "del df['Type']\n",
    "del df['Date']\n",
    "print(df.head())\n",
    "df.info()"
   ]
  },
  {
   "cell_type": "code",
   "execution_count": 34,
   "id": "christian-atlas",
   "metadata": {},
   "outputs": [
    {
     "name": "stdout",
     "output_type": "stream",
     "text": [
      "   Store  Dept    Size  Temperature  Fuel_Price         CPI  Unemployment  \\\n",
      "0      1     1  151315        42.31       2.572  211.096358         8.106   \n",
      "1      1     1  151315        38.51       2.548  211.242170         8.106   \n",
      "2      1     1  151315        39.93       2.514  211.289143         8.106   \n",
      "3      1     1  151315        46.63       2.561  211.319643         8.106   \n",
      "4      1     1  151315        46.50       2.625  211.350143         8.106   \n",
      "\n",
      "   IsHoliday  \n",
      "0          0  \n",
      "1          1  \n",
      "2          0  \n",
      "3          0  \n",
      "4          0  \n",
      "0    24924.50\n",
      "1    46039.49\n",
      "2    41595.55\n",
      "3    19403.54\n",
      "4    21827.90\n",
      "Name: Weekly_Sales, dtype: float64\n"
     ]
    }
   ],
   "source": [
    "model = LogisticRegression(max_iter=10000)\n",
    "X = df.loc[:, df.columns != 'Weekly_Sales']\n",
    "Y = df['Weekly_Sales']\n",
    "print(X.head())\n",
    "print(Y.head())"
   ]
  },
  {
   "cell_type": "code",
   "execution_count": 119,
   "id": "portable-length",
   "metadata": {},
   "outputs": [
    {
     "name": "stdout",
     "output_type": "stream",
     "text": [
      "          CPI\n",
      "0  211.096358\n",
      "1  211.242170\n",
      "2  211.289143\n",
      "3  211.319643\n",
      "4  211.350143\n",
      "0    24924.50\n",
      "1    46039.49\n",
      "2    41595.55\n",
      "3    19403.54\n",
      "4    21827.90\n",
      "Name: Weekly_Sales, dtype: float64\n"
     ]
    },
    {
     "data": {
      "text/plain": [
       "LogisticRegression(max_iter=10000)"
      ]
     },
     "execution_count": 119,
     "metadata": {},
     "output_type": "execute_result"
    }
   ],
   "source": [
    "from sklearn.preprocessing import StandardScaler\n",
    "sc_X = StandardScaler();\n",
    "\n",
    "X = df.loc[:, df.columns == 'CPI']\n",
    "Y = df['Weekly_Sales']\n",
    "# X = X.reshape(-1,1)\n",
    "# Y = Y.reshape(-1,1)\n",
    "# X = sc_X.fit_transform(X)\n",
    "# Y = sc_X.fit_transform(Y)\n",
    "print(X.head())\n",
    "print(Y.head())\n",
    "X_train, X_test, y_train, y_test = train_test_split(\n",
    "X, y, test_size=0.2, random_state=12345)\n",
    "\n",
    "logreg = LogisticRegression(max_iter=10000)\n",
    "logreg.fit(X_train, y_train)"
   ]
  },
  {
   "cell_type": "code",
   "execution_count": 106,
   "id": "artistic-liver",
   "metadata": {},
   "outputs": [
    {
     "data": {
      "text/plain": [
       "0.9299525243030353"
      ]
     },
     "execution_count": 106,
     "metadata": {},
     "output_type": "execute_result"
    }
   ],
   "source": [
    " y_pred_class = logreg.predict(X_test)\n",
    "metrics.accuracy_score(y_test, y_pred_class)"
   ]
  },
  {
   "cell_type": "code",
   "execution_count": null,
   "id": "specialized-celtic",
   "metadata": {},
   "outputs": [],
   "source": []
  },
  {
   "cell_type": "code",
   "execution_count": 120,
   "id": "drawn-glossary",
   "metadata": {},
   "outputs": [
    {
     "data": {
      "text/plain": [
       "LinearRegression()"
      ]
     },
     "execution_count": 120,
     "metadata": {},
     "output_type": "execute_result"
    }
   ],
   "source": []
  },
  {
   "cell_type": "code",
   "execution_count": 121,
   "id": "realistic-ticket",
   "metadata": {},
   "outputs": [
    {
     "name": "stdout",
     "output_type": "stream",
     "text": [
      "<class 'pandas.core.frame.DataFrame'>\n",
      "               CPI\n",
      "143981  132.761933\n",
      "221630  136.643258\n",
      "359938  209.219957\n",
      "324386  126.381548\n",
      "354568  131.149968\n",
      "...            ...\n",
      "351227  214.793411\n",
      "412703  189.062016\n",
      "117865  130.829533\n",
      "20078   220.065199\n",
      "77876   224.395979\n",
      "\n",
      "[84043 rows x 1 columns]\n"
     ]
    },
    {
     "data": {
      "text/plain": [
       "0.06514191323310549"
      ]
     },
     "execution_count": 121,
     "metadata": {},
     "output_type": "execute_result"
    }
   ],
   "source": []
  },
  {
   "cell_type": "code",
   "execution_count": null,
   "id": "professional-texas",
   "metadata": {},
   "outputs": [],
   "source": []
  }
 ],
 "metadata": {
  "kernelspec": {
   "display_name": "Python 3",
   "language": "python",
   "name": "python3"
  },
  "language_info": {
   "codemirror_mode": {
    "name": "ipython",
    "version": 3
   },
   "file_extension": ".py",
   "mimetype": "text/x-python",
   "name": "python",
   "nbconvert_exporter": "python",
   "pygments_lexer": "ipython3",
   "version": "3.9.4"
  }
 },
 "nbformat": 4,
 "nbformat_minor": 5
}
