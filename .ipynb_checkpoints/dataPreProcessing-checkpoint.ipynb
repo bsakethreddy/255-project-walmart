{
 "cells": [
  {
   "cell_type": "code",
   "execution_count": 45,
   "metadata": {},
   "outputs": [],
   "source": [
    "#sql imports\n",
    "from pyspark.sql import *\n",
    "import pyspark.sql.types as typ\n",
    "from pyspark.sql.session import SparkSession\n",
    "import pyspark.sql.functions as fn\n",
    "\n",
    "#spark context\n",
    "from pyspark.context import SparkContext\n",
    "sc = SparkContext.getOrCreate()\n",
    "spark = SparkSession(sc)\n"
   ]
  },
  {
   "cell_type": "code",
   "execution_count": 46,
   "metadata": {},
   "outputs": [],
   "source": [
    "#creating training dataframe\n",
    "labels_train= [('Store',typ.IntegerType()),\n",
    "              ('Dept',typ.IntegerType()),\n",
    "              ('Date',typ.DateType()),\n",
    "              ('Weekly_sales',typ.DoubleType()),\n",
    "              ('IsHoliday',typ.BooleanType())\n",
    "         ]\n",
    "\n",
    "\n",
    "schema_train = typ.StructType([\n",
    "typ.StructField(e[0], e[1], False) for e in labels_train\n",
    "])"
   ]
  },
  {
   "cell_type": "code",
   "execution_count": 47,
   "metadata": {},
   "outputs": [],
   "source": [
    "train_csv_values = spark.read.csv('./train/train.csv', header=True,schema=schema_train)"
   ]
  },
  {
   "cell_type": "code",
   "execution_count": 48,
   "metadata": {},
   "outputs": [
    {
     "name": "stdout",
     "output_type": "stream",
     "text": [
      "root\n",
      " |-- Store: integer (nullable = true)\n",
      " |-- Dept: integer (nullable = true)\n",
      " |-- Date: date (nullable = true)\n",
      " |-- Weekly_sales: double (nullable = true)\n",
      " |-- IsHoliday: boolean (nullable = true)\n",
      "\n"
     ]
    }
   ],
   "source": [
    "train_csv_values.printSchema()\n",
    "#train_csv_values.show(5)"
   ]
  },
  {
   "cell_type": "code",
   "execution_count": 49,
   "metadata": {},
   "outputs": [
    {
     "name": "stdout",
     "output_type": "stream",
     "text": [
      "root\n",
      " |-- Store: integer (nullable = true)\n",
      " |-- Date: date (nullable = true)\n",
      " |-- Temperature: double (nullable = true)\n",
      " |-- Fuel_Price: double (nullable = true)\n",
      " |-- MarkDown1: string (nullable = true)\n",
      " |-- MarkDown2: string (nullable = true)\n",
      " |-- MarkDown3: string (nullable = true)\n",
      " |-- MarkDown4: string (nullable = true)\n",
      " |-- MarkDown5: string (nullable = true)\n",
      " |-- CPI: double (nullable = true)\n",
      " |-- Unemployment: double (nullable = true)\n",
      " |-- IsHoliday: boolean (nullable = true)\n",
      "\n"
     ]
    }
   ],
   "source": [
    "#creating feature dataframe\n",
    "labels_features= [('Store',typ.IntegerType()),\n",
    "              ('Date',typ.DateType()),\n",
    "              ('Temperature',typ.DoubleType()),\n",
    "            ('Fuel_Price',typ.DoubleType()),\n",
    "                  ('MarkDown1',typ.StringType()),\n",
    "                  ('MarkDown2',typ.StringType()),\n",
    "                  ('MarkDown3',typ.StringType()),\n",
    "                  ('MarkDown4',typ.StringType()),\n",
    "                  ('MarkDown5',typ.StringType()),\n",
    "                  ('CPI',typ.DoubleType()),\n",
    "                  ('Unemployment',typ.DoubleType()),\n",
    "              ('IsHoliday',typ.BooleanType())\n",
    "         ]\n",
    "schema_features= typ.StructType([\n",
    "typ.StructField(e[0], e[1], False) for e in labels_features\n",
    "])\n",
    "featuers_csv_values = spark.read.csv('./features/features.csv', header=True,schema=schema_features)\n",
    "featuers_csv_values.printSchema()\n",
    "#featuers_csv_values.show(5)"
   ]
  },
  {
   "cell_type": "code",
   "execution_count": 50,
   "metadata": {},
   "outputs": [
    {
     "name": "stdout",
     "output_type": "stream",
     "text": [
      "root\n",
      " |-- Store: integer (nullable = true)\n",
      " |-- Type: string (nullable = true)\n",
      " |-- Size: integer (nullable = true)\n",
      "\n",
      "+-----+----+------+\n",
      "|Store|Type|  Size|\n",
      "+-----+----+------+\n",
      "|    1|   A|151315|\n",
      "|    2|   A|202307|\n",
      "|    3|   B| 37392|\n",
      "|    4|   A|205863|\n",
      "|    5|   B| 34875|\n",
      "+-----+----+------+\n",
      "only showing top 5 rows\n",
      "\n"
     ]
    }
   ],
   "source": [
    "#creating stores dataframe\n",
    "labels_stores= [('Store',typ.IntegerType()),\n",
    "              ('Type',typ.StringType()),\n",
    "              ('Size',typ.IntegerType())\n",
    "         ]\n",
    "schema_stores= typ.StructType([\n",
    "typ.StructField(e[0], e[1], False) for e in labels_stores\n",
    "])\n",
    "stores_csv_values = spark.read.csv('stores.csv', header=True,schema=schema_stores)\n",
    "stores_csv_values.printSchema()\n",
    "stores_csv_values.show(5)"
   ]
  },
  {
   "cell_type": "code",
   "execution_count": 51,
   "metadata": {},
   "outputs": [
    {
     "data": {
      "text/plain": [
       "['Store',\n",
       " 'Date',\n",
       " 'Temperature',\n",
       " 'Fuel_Price',\n",
       " 'MarkDown1',\n",
       " 'MarkDown2',\n",
       " 'MarkDown3',\n",
       " 'MarkDown4',\n",
       " 'MarkDown5',\n",
       " 'CPI',\n",
       " 'Unemployment',\n",
       " 'IsHoliday']"
      ]
     },
     "execution_count": 51,
     "metadata": {},
     "output_type": "execute_result"
    }
   ],
   "source": [
    "train_csv_values.createOrReplaceTempView(\"train_csv_values\")\n",
    "featuers_csv_values.createOrReplaceTempView(\"featuers_csv_values\")\n",
    "stores_csv_values.createOrReplaceTempView(\"stores_csv_values\")\n",
    "featuers_csv_values.columns"
   ]
  },
  {
   "cell_type": "code",
   "execution_count": 52,
   "metadata": {},
   "outputs": [
    {
     "data": {
      "text/plain": [
       "420212"
      ]
     },
     "execution_count": 52,
     "metadata": {},
     "output_type": "execute_result"
    }
   ],
   "source": [
    "data=spark.sql(\"\"\"select train_csv_values.Store,train_csv_values.Dept,stores_csv_values.Type,stores_csv_values.Size,\n",
    "train_csv_values.Date,train_csv_values.Weekly_Sales,\n",
    "featuers_csv_values.Temperature,featuers_csv_values.Fuel_Price,featuers_csv_values.CPI, featuers_csv_values.Unemployment, featuers_csv_values.MarkDown1, featuers_csv_values.MarkDown2, featuers_csv_values.MarkDown3, featuers_csv_values.MarkDown4, featuers_csv_values.MarkDown5,\n",
    "train_csv_values.IsHoliday from train_csv_values\n",
    "join featuers_csv_values on train_csv_values.Store=featuers_csv_values.Store and train_csv_values.Date=featuers_csv_values.Date\n",
    "Join stores_csv_values on train_csv_values.Store=stores_csv_values.Store\n",
    "where train_csv_values.Weekly_Sales>0\n",
    "\"\"\")\n",
    "#where train_csv_values.Store<=10 and train_csv_values.Dept<=15\n",
    "data.count()"
   ]
  },
  {
   "cell_type": "code",
   "execution_count": 54,
   "metadata": {},
   "outputs": [],
   "source": [
    "data.toPandas()\\\n",
    ".to_csv('joined_data.csv', index = False)"
   ]
  },
  {
   "cell_type": "code",
   "execution_count": 55,
   "metadata": {},
   "outputs": [
    {
     "name": "stdout",
     "output_type": "stream",
     "text": [
      "Count of rows: 420212\n"
     ]
    }
   ],
   "source": [
    "#Data Preprocessing \n",
    "print('Count of rows: {0}'.format(data.count()))"
   ]
  },
  {
   "cell_type": "code",
   "execution_count": 56,
   "metadata": {},
   "outputs": [],
   "source": [
    "df = data.dropDuplicates()"
   ]
  },
  {
   "cell_type": "code",
   "execution_count": 57,
   "metadata": {},
   "outputs": [
    {
     "name": "stdout",
     "output_type": "stream",
     "text": [
      "Count of rows: 420212\n"
     ]
    }
   ],
   "source": [
    "print('Count of rows: {0}'.format(df.count()))"
   ]
  },
  {
   "cell_type": "code",
   "execution_count": 58,
   "metadata": {},
   "outputs": [
    {
     "name": "stdout",
     "output_type": "stream",
     "text": [
      "Count of distinct records: 420212\n"
     ]
    }
   ],
   "source": [
    "print('Count of distinct records: {0}'\\\n",
    "      .format(df.select([c for c in df.columns]).distinct().count()))"
   ]
  },
  {
   "cell_type": "code",
   "execution_count": 59,
   "metadata": {},
   "outputs": [
    {
     "name": "stdout",
     "output_type": "stream",
     "text": [
      "+-------------+------------+------------+------------+------------+--------------------+-------------------+------------------+-----------+--------------------+-----------------+-----------------+-----------------+-----------------+-----------------+-----------------+\n",
      "|Store_missing|Dept_missing|Type_missing|Size_missing|Date_missing|Weekly_Sales_missing|Temperature_missing|Fuel_Price_missing|CPI_missing|Unemployment_missing|MarkDown1_missing|MarkDown2_missing|MarkDown3_missing|MarkDown4_missing|MarkDown5_missing|IsHoliday_missing|\n",
      "+-------------+------------+------------+------------+------------+--------------------+-------------------+------------------+-----------+--------------------+-----------------+-----------------+-----------------+-----------------+-----------------+-----------------+\n",
      "|          0.0|         0.0|         0.0|         0.0|         0.0|                 0.0|                0.0|               0.0|        0.0|                 0.0|              0.0|              0.0|              0.0|              0.0|              0.0|              0.0|\n",
      "+-------------+------------+------------+------------+------------+--------------------+-------------------+------------------+-----------+--------------------+-----------------+-----------------+-----------------+-----------------+-----------------+-----------------+\n",
      "\n"
     ]
    }
   ],
   "source": [
    "df.agg(*[\n",
    "(1 - (fn.count(c) / fn.count('*'))).alias(c + '_missing') \\\n",
    "for c in df.columns\n",
    "]).show()"
   ]
  },
  {
   "cell_type": "code",
   "execution_count": 60,
   "metadata": {},
   "outputs": [
    {
     "name": "stdout",
     "output_type": "stream",
     "text": [
      "root\n",
      " |-- Store: integer (nullable = true)\n",
      " |-- Dept: integer (nullable = true)\n",
      " |-- Type: string (nullable = true)\n",
      " |-- Size: integer (nullable = true)\n",
      " |-- Date: date (nullable = true)\n",
      " |-- Weekly_Sales: double (nullable = true)\n",
      " |-- Temperature: double (nullable = true)\n",
      " |-- Fuel_Price: double (nullable = true)\n",
      " |-- CPI: double (nullable = true)\n",
      " |-- Unemployment: double (nullable = true)\n",
      " |-- MarkDown1: string (nullable = true)\n",
      " |-- MarkDown2: string (nullable = true)\n",
      " |-- MarkDown3: string (nullable = true)\n",
      " |-- MarkDown4: string (nullable = true)\n",
      " |-- MarkDown5: string (nullable = true)\n",
      " |-- IsHoliday: boolean (nullable = true)\n",
      "\n"
     ]
    }
   ],
   "source": [
    "df.printSchema()"
   ]
  },
  {
   "cell_type": "code",
   "execution_count": 61,
   "metadata": {},
   "outputs": [],
   "source": [
    "import pandas as pd\n",
    "import numpy as np"
   ]
  },
  {
   "cell_type": "code",
   "execution_count": 62,
   "metadata": {},
   "outputs": [],
   "source": [
    "df = pd.read_csv('joined_data.csv')"
   ]
  },
  {
   "cell_type": "code",
   "execution_count": 63,
   "metadata": {},
   "outputs": [],
   "source": [
    "df['MarkDown1'] = df['MarkDown1'].replace(np.nan, 0)"
   ]
  },
  {
   "cell_type": "code",
   "execution_count": 64,
   "metadata": {},
   "outputs": [
    {
     "name": "stdout",
     "output_type": "stream",
     "text": [
      "        MarkDown1\n",
      "0            0.00\n",
      "1            0.00\n",
      "2            0.00\n",
      "3            0.00\n",
      "4            0.00\n",
      "...           ...\n",
      "420207    4556.61\n",
      "420208    5046.74\n",
      "420209    1956.28\n",
      "420210    2004.02\n",
      "420211    4018.91\n",
      "\n",
      "[420212 rows x 1 columns]\n"
     ]
    }
   ],
   "source": [
    "print(df[['MarkDown1']])"
   ]
  },
  {
   "cell_type": "code",
   "execution_count": 65,
   "metadata": {},
   "outputs": [],
   "source": [
    "df['MarkDown2'] = df['MarkDown2'].replace(np.nan, 0)"
   ]
  },
  {
   "cell_type": "code",
   "execution_count": 66,
   "metadata": {},
   "outputs": [],
   "source": [
    "df['MarkDown3'] = df['MarkDown3'].replace(np.nan, 0)"
   ]
  },
  {
   "cell_type": "code",
   "execution_count": 67,
   "metadata": {},
   "outputs": [],
   "source": [
    "df['MarkDown4'] = df['MarkDown4'].replace(np.nan, 0)"
   ]
  },
  {
   "cell_type": "code",
   "execution_count": 68,
   "metadata": {},
   "outputs": [],
   "source": [
    "df['MarkDown5'] = df['MarkDown5'].replace(np.nan, 0)"
   ]
  },
  {
   "cell_type": "code",
   "execution_count": 69,
   "metadata": {},
   "outputs": [
    {
     "name": "stdout",
     "output_type": "stream",
     "text": [
      "        MarkDown1  MarkDown2  MarkDown3  MarkDown4  MarkDown5\n",
      "0            0.00       0.00       0.00       0.00       0.00\n",
      "1            0.00       0.00       0.00       0.00       0.00\n",
      "2            0.00       0.00       0.00       0.00       0.00\n",
      "3            0.00       0.00       0.00       0.00       0.00\n",
      "4            0.00       0.00       0.00       0.00       0.00\n",
      "...           ...        ...        ...        ...        ...\n",
      "420207    4556.61      20.64       1.50    1601.01    3288.25\n",
      "420208    5046.74       0.00      18.82    2253.43    2340.01\n",
      "420209    1956.28       0.00       7.89     599.32    3990.54\n",
      "420210    2004.02       0.00       3.18     437.73    1537.49\n",
      "420211    4018.91      58.08     100.00     211.94     858.33\n",
      "\n",
      "[420212 rows x 5 columns]\n"
     ]
    }
   ],
   "source": [
    "print(df[['MarkDown1','MarkDown2','MarkDown3','MarkDown4','MarkDown5']])"
   ]
  },
  {
   "cell_type": "code",
   "execution_count": 70,
   "metadata": {},
   "outputs": [],
   "source": [
    "# df=pd.get_dummies(df,drop_first=True)"
   ]
  },
  {
   "cell_type": "code",
   "execution_count": 71,
   "metadata": {},
   "outputs": [
    {
     "name": "stdout",
     "output_type": "stream",
     "text": [
      "   Store  Dept Type    Size        Date  Weekly_Sales  Temperature  \\\n",
      "0      1     1    A  151315  2010-02-05      24924.50        42.31   \n",
      "1      1     1    A  151315  2010-02-12      46039.49        38.51   \n",
      "2      1     1    A  151315  2010-02-19      41595.55        39.93   \n",
      "3      1     1    A  151315  2010-02-26      19403.54        46.63   \n",
      "4      1     1    A  151315  2010-03-05      21827.90        46.50   \n",
      "\n",
      "   Fuel_Price         CPI  Unemployment  MarkDown1  MarkDown2  MarkDown3  \\\n",
      "0       2.572  211.096358         8.106        0.0        0.0        0.0   \n",
      "1       2.548  211.242170         8.106        0.0        0.0        0.0   \n",
      "2       2.514  211.289143         8.106        0.0        0.0        0.0   \n",
      "3       2.561  211.319643         8.106        0.0        0.0        0.0   \n",
      "4       2.625  211.350143         8.106        0.0        0.0        0.0   \n",
      "\n",
      "   MarkDown4  MarkDown5  IsHoliday  \n",
      "0        0.0        0.0      False  \n",
      "1        0.0        0.0       True  \n",
      "2        0.0        0.0      False  \n",
      "3        0.0        0.0      False  \n",
      "4        0.0        0.0      False  \n"
     ]
    }
   ],
   "source": [
    "print(df.head())"
   ]
  },
  {
   "cell_type": "code",
   "execution_count": 72,
   "metadata": {},
   "outputs": [
    {
     "name": "stdout",
     "output_type": "stream",
     "text": [
      "       Type\n",
      "0         A\n",
      "1         A\n",
      "2         A\n",
      "3         A\n",
      "4         A\n",
      "...     ...\n",
      "420207    B\n",
      "420208    B\n",
      "420209    B\n",
      "420210    B\n",
      "420211    B\n",
      "\n",
      "[420212 rows x 1 columns]\n"
     ]
    }
   ],
   "source": [
    "print(df[['Type']])"
   ]
  },
  {
   "cell_type": "code",
   "execution_count": 73,
   "metadata": {},
   "outputs": [],
   "source": [
    "del df['Date']"
   ]
  },
  {
   "cell_type": "code",
   "execution_count": 74,
   "metadata": {},
   "outputs": [],
   "source": [
    "df=pd.get_dummies(df,drop_first=True)"
   ]
  },
  {
   "cell_type": "code",
   "execution_count": 75,
   "metadata": {},
   "outputs": [
    {
     "name": "stdout",
     "output_type": "stream",
     "text": [
      "   Store  Dept    Size  Weekly_Sales  Temperature  Fuel_Price         CPI  \\\n",
      "0      1     1  151315      24924.50        42.31       2.572  211.096358   \n",
      "1      1     1  151315      46039.49        38.51       2.548  211.242170   \n",
      "2      1     1  151315      41595.55        39.93       2.514  211.289143   \n",
      "3      1     1  151315      19403.54        46.63       2.561  211.319643   \n",
      "4      1     1  151315      21827.90        46.50       2.625  211.350143   \n",
      "\n",
      "   Unemployment  MarkDown1  MarkDown2  MarkDown3  MarkDown4  MarkDown5  \\\n",
      "0         8.106        0.0        0.0        0.0        0.0        0.0   \n",
      "1         8.106        0.0        0.0        0.0        0.0        0.0   \n",
      "2         8.106        0.0        0.0        0.0        0.0        0.0   \n",
      "3         8.106        0.0        0.0        0.0        0.0        0.0   \n",
      "4         8.106        0.0        0.0        0.0        0.0        0.0   \n",
      "\n",
      "   IsHoliday  Type_B  Type_C  \n",
      "0      False       0       0  \n",
      "1       True       0       0  \n",
      "2      False       0       0  \n",
      "3      False       0       0  \n",
      "4      False       0       0  \n"
     ]
    }
   ],
   "source": [
    "print(df.head())"
   ]
  },
  {
   "cell_type": "code",
   "execution_count": null,
   "metadata": {},
   "outputs": [],
   "source": []
  }
 ],
 "metadata": {
  "kernelspec": {
   "display_name": "Python 3",
   "language": "python",
   "name": "python3"
  },
  "language_info": {
   "codemirror_mode": {
    "name": "ipython",
    "version": 3
   },
   "file_extension": ".py",
   "mimetype": "text/x-python",
   "name": "python",
   "nbconvert_exporter": "python",
   "pygments_lexer": "ipython3",
   "version": "3.9.4"
  }
 },
 "nbformat": 4,
 "nbformat_minor": 4
}
