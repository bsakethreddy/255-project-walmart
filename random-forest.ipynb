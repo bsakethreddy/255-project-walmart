{
 "cells": [
  {
   "cell_type": "code",
   "execution_count": 1,
   "id": "raised-illinois",
   "metadata": {},
   "outputs": [],
   "source": [
    "# from sklearn.ensemble import RandomForestRegressor\n",
    "import pandas as pd\n",
    "import numpy as np\n",
    "from sklearn.model_selection import train_test_split"
   ]
  },
  {
   "cell_type": "code",
   "execution_count": 2,
   "id": "meaningful-trailer",
   "metadata": {},
   "outputs": [
    {
     "name": "stdout",
     "output_type": "stream",
     "text": [
      "Index(['Unnamed: 0', 'Store', 'Dept', 'Size', 'Date', 'Weekly_Sales',\n",
      "       'Temperature', 'Fuel_Price', 'CPI', 'Unemployment', 'MarkDown1',\n",
      "       'MarkDown2', 'MarkDown3', 'MarkDown4', 'MarkDown5', 'IsHoliday',\n",
      "       'Type_A', 'Type_B', 'Type_C', 'month', 'quarter', 'dayofweek_name',\n",
      "       'is_weekend'],\n",
      "      dtype='object')\n",
      "<class 'pandas.core.frame.DataFrame'>\n",
      "RangeIndex: 420212 entries, 0 to 420211\n",
      "Data columns (total 23 columns):\n",
      " #   Column          Non-Null Count   Dtype  \n",
      "---  ------          --------------   -----  \n",
      " 0   Unnamed: 0      420212 non-null  int64  \n",
      " 1   Store           420212 non-null  int64  \n",
      " 2   Dept            420212 non-null  int64  \n",
      " 3   Size            420212 non-null  int64  \n",
      " 4   Date            420212 non-null  object \n",
      " 5   Weekly_Sales    420212 non-null  float64\n",
      " 6   Temperature     420212 non-null  float64\n",
      " 7   Fuel_Price      420212 non-null  float64\n",
      " 8   CPI             420212 non-null  float64\n",
      " 9   Unemployment    420212 non-null  float64\n",
      " 10  MarkDown1       420212 non-null  float64\n",
      " 11  MarkDown2       420212 non-null  float64\n",
      " 12  MarkDown3       420212 non-null  float64\n",
      " 13  MarkDown4       420212 non-null  float64\n",
      " 14  MarkDown5       420212 non-null  float64\n",
      " 15  IsHoliday       420212 non-null  bool   \n",
      " 16  Type_A          420212 non-null  int64  \n",
      " 17  Type_B          420212 non-null  int64  \n",
      " 18  Type_C          420212 non-null  int64  \n",
      " 19  month           420212 non-null  int64  \n",
      " 20  quarter         420212 non-null  int64  \n",
      " 21  dayofweek_name  420212 non-null  object \n",
      " 22  is_weekend      420212 non-null  int64  \n",
      "dtypes: bool(1), float64(10), int64(10), object(2)\n",
      "memory usage: 70.9+ MB\n",
      "None\n"
     ]
    }
   ],
   "source": [
    "df =  pd.read_csv(\"joined_data_refined.csv\",keep_default_na=False, na_values=[\"\"])\n",
    "print(df.columns)\n",
    "print(df.info())"
   ]
  },
  {
   "cell_type": "code",
   "execution_count": 4,
   "id": "southeast-oregon",
   "metadata": {},
   "outputs": [
    {
     "name": "stdout",
     "output_type": "stream",
     "text": [
      "Index(['Store', 'Dept', 'Size', 'Temperature', 'Fuel_Price', 'CPI',\n",
      "       'Unemployment', 'MarkDown1', 'MarkDown2', 'MarkDown3', 'MarkDown4',\n",
      "       'MarkDown5', 'Type_A', 'Type_B', 'Type_C', 'month', 'quarter',\n",
      "       'is_weekend'],\n",
      "      dtype='object')\n",
      "Index(['Weekly_Sales'], dtype='object')\n",
      "Index(['Weekly_Sales'], dtype='object')\n"
     ]
    }
   ],
   "source": [
    "X = df.loc[:, df.columns != 'Weekly_Sales'].drop(['Date','Unnamed: 0', 'IsHoliday', 'dayofweek_name' ],axis=1)\n",
    "y = df.loc[:, df.columns == 'Weekly_Sales']\n",
    "print(X.columns)\n",
    "print(y.columns)\n",
    "\n",
    "X_train, X_test, y_train, y_test = train_test_split(X, y, test_size=0.2, random_state=42)\n",
    "print(y_train.columns)"
   ]
  },
  {
   "cell_type": "code",
   "execution_count": null,
   "id": "insured-perfume",
   "metadata": {},
   "outputs": [
    {
     "name": "stderr",
     "output_type": "stream",
     "text": [
      "<ipython-input-5-10f5d9ee13ba>:2: DataConversionWarning: A column-vector y was passed when a 1d array was expected. Please change the shape of y to (n_samples,), for example using ravel().\n",
      "  rf.fit(X_train, y_train)\n"
     ]
    }
   ],
   "source": [
    "rf = RandomForestRegressor()\n",
    "rf.fit(X_train, y_train)\n",
    "y_pred = rf.predict(y_test)\n",
    "# test['Weekly_Sales'] = rf.predict(test.drop('Date',axis=1))\n"
   ]
  },
  {
   "cell_type": "code",
   "execution_count": null,
   "id": "charming-heather",
   "metadata": {},
   "outputs": [],
   "source": []
  }
 ],
 "metadata": {
  "kernelspec": {
   "display_name": "Python 3",
   "language": "python",
   "name": "python3"
  },
  "language_info": {
   "codemirror_mode": {
    "name": "ipython",
    "version": 3
   },
   "file_extension": ".py",
   "mimetype": "text/x-python",
   "name": "python",
   "nbconvert_exporter": "python",
   "pygments_lexer": "ipython3",
   "version": "3.9.4"
  }
 },
 "nbformat": 4,
 "nbformat_minor": 5
}
