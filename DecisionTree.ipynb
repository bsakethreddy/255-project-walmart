{
 "cells": [
  {
   "cell_type": "code",
   "execution_count": 2,
   "id": "9390d8e8-e074-4435-9440-f537c12ec03a",
   "metadata": {},
   "outputs": [],
   "source": [
    "import pandas as pd\n",
    "import numpy as np\n",
    "from sklearn.model_selection import train_test_split\n",
    "from sklearn.metrics import accuracy_score\n",
    "from sklearn.metrics import mean_squared_error\n",
    "from sklearn.metrics import mean_absolute_error"
   ]
  },
  {
   "cell_type": "code",
   "execution_count": 3,
   "metadata": {},
   "outputs": [],
   "source": [
    "df =  pd.read_csv(\"joined_data.csv\",keep_default_na=False, na_values=[\"\"])"
   ]
  },
  {
   "cell_type": "code",
   "execution_count": 4,
   "metadata": {},
   "outputs": [
    {
     "output_type": "execute_result",
     "data": {
      "text/plain": [
       "Index(['Store', 'Dept', 'Size', 'Weekly_Sales', 'Temperature', 'Fuel_Price',\n",
       "       'CPI', 'Unemployment', 'MarkDown1', 'MarkDown2', 'MarkDown3',\n",
       "       'MarkDown4', 'MarkDown5', 'IsHoliday'],\n",
       "      dtype='object')"
      ]
     },
     "metadata": {},
     "execution_count": 4
    }
   ],
   "source": [
    "df[[\"IsHoliday\"]] *= 1\n",
    "del df['Type']\n",
    "del df['Date']\n",
    "# print(df.head())\n",
    "# df.info()\n",
    "df.columns"
   ]
  },
  {
   "cell_type": "code",
   "execution_count": 5,
   "metadata": {},
   "outputs": [],
   "source": [
    "# X = df.loc[:, df.columns == 'Size']\n",
    "X = df.copy()\n",
    "del X['Weekly_Sales']\n",
    "del X['MarkDown1']\n",
    "del X['MarkDown2']\n",
    "del X['MarkDown3']\n",
    "del X['MarkDown4']\n",
    "del X['MarkDown5']\n",
    "Y = df['Weekly_Sales']\n",
    "Y = Y.values.reshape(-1, 1)"
   ]
  },
  {
   "cell_type": "code",
   "execution_count": 6,
   "metadata": {},
   "outputs": [],
   "source": [
    "X_train, X_test, y_train, y_test = train_test_split(X, Y, test_size=0.2, random_state=42)"
   ]
  },
  {
   "cell_type": "code",
   "execution_count": 7,
   "metadata": {},
   "outputs": [],
   "source": [
    "from sklearn.tree import DecisionTreeRegressor\n",
    "dt = DecisionTreeRegressor(random_state=0)\n",
    "dt.fit(X_train,y_train)\n",
    "y_pred = dt.predict(X_test)"
   ]
  },
  {
   "cell_type": "code",
   "execution_count": 8,
   "metadata": {},
   "outputs": [
    {
     "output_type": "stream",
     "name": "stdout",
     "text": [
      "MAE: 2359.3910250705\nMSE: 48121418.72529254\nRMSE: 6936.960337589695\nACCURACY: 0.9057930898444382\n"
     ]
    }
   ],
   "source": [
    "print(\"MAE:\",mean_absolute_error(y_test,y_pred))\n",
    "print(\"MSE:\",mean_squared_error(y_test,y_pred))\n",
    "print(\"RMSE:\",np.sqrt(mean_squared_error(y_test,y_pred)))\n",
    "accuracy = dt.score(X_test,y_test)\n",
    "print(\"ACCURACY:\",accuracy)"
   ]
  }
 ],
 "metadata": {
  "kernelspec": {
   "name": "python391jvsc74a57bd07812ea015bdcee6f23a998adcdd2ef97c151c0c241b7b7070987d9313e41299d",
   "display_name": "Python 3.9.1 64-bit"
  },
  "language_info": {
   "codemirror_mode": {
    "name": "ipython",
    "version": 3
   },
   "file_extension": ".py",
   "mimetype": "text/x-python",
   "name": "python",
   "nbconvert_exporter": "python",
   "pygments_lexer": "ipython3",
   "version": "3.9.1"
  }
 },
 "nbformat": 4,
 "nbformat_minor": 5
}